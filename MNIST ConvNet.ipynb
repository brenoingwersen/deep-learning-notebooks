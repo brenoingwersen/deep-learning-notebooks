{
 "cells": [
  {
   "cell_type": "markdown",
   "id": "812b4899-a769-4229-a3a6-615afe9ae099",
   "metadata": {},
   "source": [
    "# Classification of handwritten digits using Pytorch"
   ]
  },
  {
   "cell_type": "code",
   "execution_count": 1,
   "id": "6f832717-9165-4614-b9e4-47ed7ba9ecad",
   "metadata": {},
   "outputs": [],
   "source": [
    "from typing import List, Dict, Tuple, Optional, Callable, Iterable\n",
    "\n",
    "import torch\n",
    "import torch.nn as nn\n",
    "from torch.optim import Optimizer, Adadelta\n",
    "from torch.utils.data import Dataset, DataLoader\n",
    "from torchvision import datasets\n",
    "from torchvision.transforms import v2\n",
    "from torchmetrics import Accuracy\n",
    "\n",
    "from tqdm.auto import tqdm\n",
    "import matplotlib.pyplot as plt\n",
    "import seaborn as sns\n",
    "sns.set_style(\"white\")\n",
    "sns.set_context(\"notebook\")"
   ]
  },
  {
   "cell_type": "code",
   "execution_count": 2,
   "id": "83b9fe22-c09a-4e2d-b68c-3ebec0ccb0b8",
   "metadata": {},
   "outputs": [
    {
     "name": "stdout",
     "output_type": "stream",
     "text": [
      "Train set shape: torch.Size([60000, 28, 28])\n",
      "Eval set shape: torch.Size([10000, 28, 28])\n"
     ]
    }
   ],
   "source": [
    "# The preprocessing transformations\n",
    "transforms = v2.Compose([v2.ToImage(), # Converts to tensor\n",
    "                         # Sets the dtype and each scale each pixel between [0, 1]\n",
    "                         v2.ToDtype(torch.float32, scale=True)])\n",
    "\n",
    "# Train set\n",
    "train_set = datasets.MNIST(root=\"./data\",\n",
    "                           train=True,\n",
    "                           download=True,\n",
    "                           transform=transforms)\n",
    "# Evaluation set\n",
    "eval_set = datasets.MNIST(root=\"./data\",\n",
    "                          train=False,\n",
    "                          download=True, \n",
    "                          transform=transforms)\n",
    "\n",
    "print(f\"Train set shape: {train_set.data.shape}\")\n",
    "print(f\"Eval set shape: {eval_set.data.shape}\")"
   ]
  },
  {
   "cell_type": "code",
   "execution_count": 3,
   "id": "5e6013cf-624f-4d01-be36-9b2be60b52ec",
   "metadata": {},
   "outputs": [],
   "source": [
    "# Creating the dataloaders\n",
    "torch.manual_seed(42)\n",
    "train_loader = DataLoader(train_set, batch_size=32, shuffle=True)\n",
    "eval_loader = DataLoader(eval_set, batch_size=32, shuffle=False)"
   ]
  },
  {
   "cell_type": "code",
   "execution_count": 4,
   "id": "539323c5-34c6-403c-b3c5-ca5de0ca4587",
   "metadata": {},
   "outputs": [],
   "source": [
    "# The model\n",
    "class ConvNet(nn.Module):\n",
    "    \"\"\"\n",
    "    A Convolutional Neural Network (CNN) for \n",
    "    classifying 28x28 monochromatic images into 10 classes.\n",
    "\n",
    "    Input:\n",
    "    - Shape: (batch_size, 1, 28, 28) for monochromatic images.\n",
    "\n",
    "    Output:\n",
    "    - Shape: (batch_size, 10) representing the class \n",
    "        probabilities for each image in the batch.\n",
    "    \"\"\"\n",
    "    def __init__(self) -> None:\n",
    "        \"\"\"\n",
    "        Initializes the ConvNet model with a feature extractor and a classifier.\n",
    "        \"\"\"\n",
    "        super(ConvNet, self).__init__()\n",
    "        # Features block\n",
    "        self.features = nn.Sequential(\n",
    "            # shape in: (batch_size, 1, 28, 28)\n",
    "            # shape out: (batch_size, 16, 26, 26)\n",
    "            # nn.BatchNorm2d(num_features=1), \n",
    "            nn.Conv2d(in_channels=1, # Monochromatic images\n",
    "                      out_channels=16,\n",
    "                      kernel_size=3),\n",
    "            nn.ReLU(),\n",
    "            nn.Conv2d(16, 32, 3),  # (batch_size, 32, 24, 24)\n",
    "            nn.ReLU(),\n",
    "            nn.MaxPool2d(2),  # (batch_size, 32, 12, 12)\n",
    "            nn.Dropout2d(p=0.1),\n",
    "            nn.Flatten()  # (batch_size, 4608)\n",
    "        )\n",
    "        # Classifier DNN\n",
    "        self.classifier = nn.Sequential(\n",
    "            nn.Linear(4608, 64),\n",
    "            nn.ReLU(),\n",
    "            nn.Dropout(0.1),\n",
    "            nn.Linear(64, 10),  # num classes\n",
    "            nn.Softmax(dim=-1)\n",
    "        )\n",
    "\n",
    "    def forward(self, inputs: torch.Tensor) -> torch.Tensor:\n",
    "        \"\"\"\n",
    "        Forward pass of the model.\n",
    "\n",
    "        Args:\n",
    "        - inputs (torch.Tensor): Input tensor of shape (batch_size, 1, 28, 28) \n",
    "            representing a batch of monochromatic images.\n",
    "\n",
    "        Returns:\n",
    "        - torch.Tensor: Output tensor of shape (batch_size, 10)\n",
    "            representing the class probabilities for each image in the batch.\n",
    "        \"\"\"\n",
    "        # Forward pass\n",
    "        features = self.features(inputs)\n",
    "        probabilities = self.classifier(features)\n",
    "        return probabilities"
   ]
  },
  {
   "cell_type": "code",
   "execution_count": 5,
   "id": "f3c5f2de-d06d-4645-972f-516d0bd8097f",
   "metadata": {},
   "outputs": [
    {
     "name": "stdout",
     "output_type": "stream",
     "text": [
      "Count of trainable params: 300,426\n"
     ]
    }
   ],
   "source": [
    "def count_parameters(model):\n",
    "    return sum(p.numel() for p in model.parameters() if p.requires_grad)\n",
    "\n",
    "n_params = count_parameters(ConvNet())\n",
    "print(f\"Count of trainable params: {n_params:,.0f}\")"
   ]
  },
  {
   "cell_type": "code",
   "execution_count": 6,
   "id": "bc81d6bc-d9e4-43a4-9dc9-b2309b858661",
   "metadata": {},
   "outputs": [],
   "source": [
    "def train_one_epoch(model: nn.Module,\n",
    "                    train_loader: DataLoader,\n",
    "                    criterion: nn.Module,\n",
    "                    optimizer: Optimizer,\n",
    "                    epoch: int,\n",
    "                    device: Optional[torch.device]=None) -> float:\n",
    "    \"\"\"\n",
    "    Trains the model for one epoch.\n",
    "\n",
    "    Args:\n",
    "    - model (nn.Module): The neural network model to be trained.\n",
    "    - train_loader (DataLoader): The DataLoader providing the training data.\n",
    "    - criterion (nn.Module): The loss function used for optimization.\n",
    "    - optimizer (Optimizer): The optimizer used to update the model's weights.\n",
    "    - epoch (int): The current epoch number.\n",
    "    - device (Optional[torch.device]): The device (CPU or GPU) to which data and the model should be transferred. \n",
    "                                       If None, defaults to CPU.\n",
    "\n",
    "    Returns:\n",
    "    - float: The average training loss over the epoch.\n",
    "    \"\"\"\n",
    "    model.train()\n",
    "    train_loss = 0\n",
    "    # Progress bar\n",
    "    pbar = tqdm(train_loader, \n",
    "                total=len(train_loader), \n",
    "                desc=f\"Train - epoch {epoch}\")\n",
    "    for batch_id, (inputs, targets) in enumerate(pbar, start=1):\n",
    "        # Zero the gradients\n",
    "        optimizer.zero_grad()\n",
    "        # Send inputs and targets to proper device\n",
    "        if device is not None:\n",
    "            inputs = inputs.to(device)\n",
    "            targets = targets.to(device)\n",
    "\n",
    "        outputs = model(inputs)\n",
    "        # Calculate loss\n",
    "        loss = criterion(outputs, targets)\n",
    "        # Calculate gradients\n",
    "        loss.backward()\n",
    "        # Update the models' weights\n",
    "        optimizer.step()\n",
    "        # Store the training loss\n",
    "        train_loss += loss.item()\n",
    "        pbar.update(1)\n",
    "        pbar.set_postfix({\"train_loss\": f\"{train_loss/batch_id:.4f}\"})\n",
    "    return train_loss / len(train_loader)"
   ]
  },
  {
   "cell_type": "code",
   "execution_count": 7,
   "id": "3a680f57-1ca5-401f-80ec-c6a0dc7662db",
   "metadata": {},
   "outputs": [],
   "source": [
    "def evaluate_model(model: nn.Module,\n",
    "                   eval_loader: DataLoader,\n",
    "                   criterion: nn.Module,\n",
    "                   epoch: int,\n",
    "                   device: Optional[torch.device]=None) -> Tuple[float, float]:\n",
    "    \"\"\"\n",
    "    Evaluates the model for one epoch.\n",
    "\n",
    "    Args:\n",
    "    - model (nn.Module): The neural network model to be trained.\n",
    "    - eval_loader (DataLoader): The DataLoader with the validation data.\n",
    "    - criterion (nn.Module): The loss function.\n",
    "    - epoch (int): The current epoch number.\n",
    "    - device (Optional[torch.device]): The device (CPU or GPU) to which data and the model should be transferred. \n",
    "                                       If None, defaults to CPU.\n",
    "\n",
    "    Returns:\n",
    "    - Tuple[float, float]: The average evaluation loss and accuracy over the epoch.\n",
    "    \"\"\"\n",
    "    model.eval()\n",
    "    eval_loss = 0\n",
    "    # Instantiate the accuracy scorer\n",
    "    scorer = Accuracy(task=\"multiclass\", num_classes=10)\n",
    "    pbar = tqdm(eval_loader, \n",
    "                total=len(eval_loader), \n",
    "                desc=f\"Eval - epoch {epoch}\")\n",
    "    # Disable gradients tracking and speedup inference\n",
    "    with torch.no_grad():\n",
    "        for batch_id, (inputs, targets) in enumerate(pbar, start=1):\n",
    "            if device is not None:\n",
    "                inputs = inputs.to(device)\n",
    "                targets = targets.to(device)\n",
    "    \n",
    "            outputs = model(inputs)\n",
    "            # Calculate loss and accuracy\n",
    "            loss = criterion(outputs, targets)\n",
    "            scorer.update(outputs, targets)\n",
    "            # Store the training loss\n",
    "            eval_loss += loss.item()\n",
    "            pbar.update(1)\n",
    "            eval_score = scorer.compute().item()\n",
    "            pbar.set_postfix({\"eval_loss\": f\"{eval_loss/batch_id:.4f}\", \n",
    "                              \"eval_acc\": f\"{eval_score:.4f}\"})\n",
    "    return eval_loss / len(eval_loader), eval_score"
   ]
  },
  {
   "cell_type": "code",
   "execution_count": 8,
   "id": "1e428804-f365-4c7e-a575-ab54909c4aa6",
   "metadata": {},
   "outputs": [],
   "source": [
    "def train_model(model: nn.Module,\n",
    "                train_loader: DataLoader,\n",
    "                eval_loader: DataLoader,\n",
    "                criterion: nn.Module,\n",
    "                optimizer: Optimizer,\n",
    "                n_epochs: Optional[int]=10,\n",
    "                device: Optional[torch.device]=None) -> Dict[str, List[float]]:\n",
    "    \"\"\"    \n",
    "    Args:\n",
    "    - model (nn.Module): The neural network model to be trained and evaluated.\n",
    "    - train_loader (DataLoader): The DataLoader providing the training data.\n",
    "    - eval_loader (DataLoader): The DataLoader providing the evaluation data.\n",
    "    - criterion (nn.Module): The loss function used for both training and evaluation.\n",
    "    - optimizer (Optimizer): The optimizer used to update the model's weights.\n",
    "    - n_epochs (Optional[int]): The number of epochs to train the model, default is 10.\n",
    "    - device (Optional[torch.device]): The device (CPU or GPU) on which to perform computations. Defaults to CPU if not provided.\n",
    "\n",
    "    Returns:\n",
    "    - dict: A dictionary containing the history of the training process, with keys:\n",
    "        - \"epoch\": List of epoch numbers.\n",
    "        - \"train_loss\": List of average training losses per epoch.\n",
    "        - \"eval_loss\": List of average evaluation losses per epoch.\n",
    "        - \"eval_acc\": List of accuracy scores per epoch.\n",
    "    \"\"\"\n",
    "    hist = {\n",
    "        \"epoch\": [],\n",
    "        \"train_loss\": [],\n",
    "        \"eval_loss\": [],\n",
    "        \"eval_acc\": []\n",
    "    }\n",
    "    for epoch in range(1, n_epochs + 1):\n",
    "        # Train\n",
    "        train_loss = train_one_epoch(model, train_loader, criterion, optimizer, epoch, device)\n",
    "        # Evaluate\n",
    "        eval_loss, eval_acc = evaluate_model(model, eval_loader, criterion, epoch, device)\n",
    "        # Update training history\n",
    "        hist[\"epoch\"].append(epoch)\n",
    "        hist[\"train_loss\"].append(train_loss)\n",
    "        hist[\"eval_loss\"].append(eval_loss)\n",
    "        hist[\"eval_acc\"].append(eval_acc)\n",
    "    return hist"
   ]
  },
  {
   "cell_type": "code",
   "execution_count": 9,
   "id": "b5be2e9e-2c02-4278-8a2e-22b4343e6f1b",
   "metadata": {},
   "outputs": [
    {
     "data": {
      "application/vnd.jupyter.widget-view+json": {
       "model_id": "4679c81eb7ce4bb4bdc8d035b755f9f7",
       "version_major": 2,
       "version_minor": 0
      },
      "text/plain": [
       "Train - epoch 1:   0%|          | 0/1875 [00:00<?, ?it/s]"
      ]
     },
     "metadata": {},
     "output_type": "display_data"
    },
    {
     "data": {
      "application/vnd.jupyter.widget-view+json": {
       "model_id": "53df3a4a39784dfa95cb88c050acd10f",
       "version_major": 2,
       "version_minor": 0
      },
      "text/plain": [
       "Eval - epoch 1:   0%|          | 0/313 [00:00<?, ?it/s]"
      ]
     },
     "metadata": {},
     "output_type": "display_data"
    },
    {
     "data": {
      "application/vnd.jupyter.widget-view+json": {
       "model_id": "7795037b693441fcba47ebd06d5f6da5",
       "version_major": 2,
       "version_minor": 0
      },
      "text/plain": [
       "Train - epoch 2:   0%|          | 0/1875 [00:00<?, ?it/s]"
      ]
     },
     "metadata": {},
     "output_type": "display_data"
    },
    {
     "data": {
      "application/vnd.jupyter.widget-view+json": {
       "model_id": "e9e21d988d50477599e98615b82c5842",
       "version_major": 2,
       "version_minor": 0
      },
      "text/plain": [
       "Eval - epoch 2:   0%|          | 0/313 [00:00<?, ?it/s]"
      ]
     },
     "metadata": {},
     "output_type": "display_data"
    },
    {
     "data": {
      "application/vnd.jupyter.widget-view+json": {
       "model_id": "223daa933d8c4b47970afe65c05f081c",
       "version_major": 2,
       "version_minor": 0
      },
      "text/plain": [
       "Train - epoch 3:   0%|          | 0/1875 [00:00<?, ?it/s]"
      ]
     },
     "metadata": {},
     "output_type": "display_data"
    },
    {
     "data": {
      "application/vnd.jupyter.widget-view+json": {
       "model_id": "306e5e79b2804083a66df6a3dcf800d5",
       "version_major": 2,
       "version_minor": 0
      },
      "text/plain": [
       "Eval - epoch 3:   0%|          | 0/313 [00:00<?, ?it/s]"
      ]
     },
     "metadata": {},
     "output_type": "display_data"
    },
    {
     "name": "stdout",
     "output_type": "stream",
     "text": [
      "CPU times: user 6min 40s, sys: 4.18 s, total: 6min 45s\n",
      "Wall time: 1min 40s\n"
     ]
    }
   ],
   "source": [
    "%%time\n",
    "torch.manual_seed(42)\n",
    "\n",
    "# Instantiate the model\n",
    "model = ConvNet()\n",
    "criterion = nn.CrossEntropyLoss()\n",
    "optimizer = Adadelta(model.parameters())\n",
    "n_epochs = 3\n",
    "device = \"cpu\"\n",
    "\n",
    "hist = train_model(model, train_loader, eval_loader, criterion, optimizer, n_epochs, device)"
   ]
  },
  {
   "cell_type": "code",
   "execution_count": 10,
   "id": "bbab8ce5-160c-4191-9f84-a5126051af3b",
   "metadata": {},
   "outputs": [
    {
     "data": {
      "image/png": "[encoded data removed]",
      "text/plain": [
       "<Figure size 1000x400 with 2 Axes>"
      ]
     },
     "metadata": {},
     "output_type": "display_data"
    }
   ],
   "source": [
    "fig, axes = plt.subplots(ncols=2, figsize=(10, 4))\n",
    "sns.lineplot(x=hist[\"epoch\"], y=hist[\"train_loss\"], label=\"train loss\", ax=axes[0])\n",
    "sns.lineplot(x=hist[\"epoch\"], y=hist[\"eval_loss\"], label=\"eval loss\", ax=axes[0])\n",
    "sns.lineplot(x=hist[\"epoch\"], y=hist[\"eval_acc\"], label=\"eval acc\", ax=axes[1])\n",
    "for ax in axes:\n",
    "    ax.set_xlabel(\"epoch\")\n",
    "axes[0].set_ylabel(\"mean loss\")\n",
    "fig.tight_layout()\n",
    "plt.show()"
   ]
  },
  {
   "cell_type": "code",
   "execution_count": 11,
   "id": "83bc2fb6-36c4-4780-9a59-0b7b84f6e65b",
   "metadata": {},
   "outputs": [
    {
     "data": {
      "image/png": "[encoded data removed]",
      "text/plain": [
       "<Figure size 640x480 with 1 Axes>"
      ]
     },
     "metadata": {},
     "output_type": "display_data"
    }
   ],
   "source": [
    "def plot_sample(sample_img: torch.Tensor, \n",
    "                model: nn.Module) -> None:\n",
    "    \"\"\"\n",
    "    Plots a sample image and run inference.\n",
    "    \"\"\"\n",
    "    model.eval()\n",
    "    with torch.no_grad():\n",
    "        # Adding the 'batch' dimension\n",
    "        inputs = sample_img.unsqueeze(0) # (1, 1, 28, 28)\n",
    "        probs = model(inputs)\n",
    "    # Removing the channel and ploting\n",
    "    fig, ax = plt.subplots()\n",
    "    ax.imshow(sample_img.squeeze(0), # (28 x 28)\n",
    "               cmap=\"gray\",\n",
    "               interpolation=\"none\")\n",
    "    # Fetching the predicted label\n",
    "    ax.set_title(f\"Prediction: {torch.argmax(probs)}\")\n",
    "    plt.show()\n",
    "\n",
    "sample_img, _ = eval_set[0]\n",
    "plot_sample(sample_img, # (1, 28, 28)\n",
    "            model)"
   ]
  },
  {
   "cell_type": "code",
   "execution_count": null,
   "id": "ee16c2ae-d406-4de4-b86d-db8cdd759f4e",
   "metadata": {},
   "outputs": [],
   "source": []
  }
 ],
 "metadata": {
  "kernelspec": {
   "display_name": "Python 3 (ipykernel)",
   "language": "python",
   "name": "python3"
  },
  "language_info": {
   "codemirror_mode": {
    "name": "ipython",
    "version": 3
   },
   "file_extension": ".py",
   "mimetype": "text/x-python",
   "name": "python",
   "nbconvert_exporter": "python",
   "pygments_lexer": "ipython3",
   "version": "3.10.12"
  }
 },
 "nbformat": 4,
 "nbformat_minor": 5
}
